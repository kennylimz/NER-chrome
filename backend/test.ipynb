{
 "cells": [
  {
   "cell_type": "code",
   "execution_count": 1,
   "outputs": [
    {
     "name": "stderr",
     "output_type": "stream",
     "text": [
      "Some weights of BertForTokenClassification were not initialized from the model checkpoint at bert-base-cased and are newly initialized: ['classifier.weight', 'classifier.bias']\n",
      "You should probably TRAIN this model on a down-stream task to be able to use it for predictions and inference.\n"
     ]
    },
    {
     "data": {
      "text/plain": "<All keys matched successfully>"
     },
     "execution_count": 1,
     "metadata": {},
     "output_type": "execute_result"
    }
   ],
   "source": [
    "import numpy as np\n",
    "import torch\n",
    "from transformers import BertForTokenClassification, BertTokenizer\n",
    "\n",
    "tag_values = ['B-art','B-per','B-eve','I-gpe','I-geo','B-geo','I-art','I-per','B-gpe','B-nat','I-eve','I-nat','I-tim','B-org','O','B-tim','I-org','PAD']\n",
    "tag2idx = {t: i for i, t in enumerate(tag_values)}\n",
    "tokenizer = BertTokenizer.from_pretrained('bert-base-cased', do_lower_case=False)\n",
    "model = BertForTokenClassification.from_pretrained(\n",
    "    \"bert-base-cased\",\n",
    "    num_labels=len(tag2idx),\n",
    "    output_attentions=False,\n",
    "    output_hidden_states=False\n",
    ")\n",
    "model.cuda()\n",
    "model.load_state_dict(torch.load('model_checkpoint.pth'))"
   ],
   "metadata": {
    "collapsed": false,
    "ExecuteTime": {
     "end_time": "2023-08-21T20:07:50.553115200Z",
     "start_time": "2023-08-21T20:07:45.720548200Z"
    }
   }
  },
  {
   "cell_type": "code",
   "execution_count": 2,
   "outputs": [],
   "source": [
    "def ner_analyze(test_sentence):\n",
    "    dict = {}\n",
    "    dict['geo'] = []\n",
    "    dict['org'] = []\n",
    "    dict['per'] = []\n",
    "    dict['gpe'] = []\n",
    "    dict['tim'] = []\n",
    "    tokenized_sentence = tokenizer.encode(test_sentence)\n",
    "    input_ids = torch.tensor([tokenized_sentence]).cuda()\n",
    "    with torch.no_grad():\n",
    "        output = model(input_ids)\n",
    "    label_indices = np.argmax(output[0].to('cpu').numpy(), axis=2)\n",
    "    tokens = tokenizer.convert_ids_to_tokens(input_ids.to('cpu').numpy()[0])\n",
    "    new_tokens, new_labels = [], []\n",
    "    for token, label_idx in zip(tokens, label_indices[0]):\n",
    "        if token.startswith(\"##\"):\n",
    "            new_tokens[-1] = new_tokens[-1] + token[2:]\n",
    "        else:\n",
    "            new_labels.append(tag_values[label_idx])\n",
    "            new_tokens.append(token)\n",
    "    for i in range(len(new_labels)):\n",
    "        label = new_labels[i]\n",
    "        token = new_tokens[i]\n",
    "        if label.startswith('B'):\n",
    "            type = label[2:]\n",
    "            if type in dict:\n",
    "                dict[type].append(token)\n",
    "        elif label.startswith('I'):\n",
    "            Itype = new_labels[i][2:]\n",
    "            Btype = new_labels[i-1][2:]\n",
    "            if Itype in dict:\n",
    "                if Itype==Btype:\n",
    "                    dict[Itype][-1] += \"(.*?)\"+token\n",
    "                else:\n",
    "                    dict[Itype].append(token)\n",
    "    return dict\n"
   ],
   "metadata": {
    "collapsed": false,
    "ExecuteTime": {
     "end_time": "2023-08-21T20:08:03.969187100Z",
     "start_time": "2023-08-21T20:08:03.941746600Z"
    }
   }
  },
  {
   "cell_type": "code",
   "execution_count": 5,
   "outputs": [],
   "source": [
    "test_sentence = \"\"\"\n",
    "Jim bought 300 shares of Acme Corp. in 2006.\n",
    "\"\"\""
   ],
   "metadata": {
    "collapsed": false,
    "ExecuteTime": {
     "end_time": "2023-08-21T20:11:24.431447Z",
     "start_time": "2023-08-21T20:11:24.426461200Z"
    }
   }
  },
  {
   "cell_type": "code",
   "execution_count": 6,
   "outputs": [
    {
     "data": {
      "text/plain": "{'geo': [],\n 'org': ['Acme(.*?)Corp(.*?).'],\n 'per': ['Jim'],\n 'gpe': [],\n 'tim': ['2006']}"
     },
     "execution_count": 6,
     "metadata": {},
     "output_type": "execute_result"
    }
   ],
   "source": [
    "ner_analyze(test_sentence)"
   ],
   "metadata": {
    "collapsed": false,
    "ExecuteTime": {
     "end_time": "2023-08-21T20:11:25.280918700Z",
     "start_time": "2023-08-21T20:11:25.200072900Z"
    }
   }
  },
  {
   "cell_type": "code",
   "execution_count": null,
   "outputs": [],
   "source": [],
   "metadata": {
    "collapsed": false
   }
  }
 ],
 "metadata": {
  "kernelspec": {
   "display_name": "Python 3",
   "language": "python",
   "name": "python3"
  },
  "language_info": {
   "codemirror_mode": {
    "name": "ipython",
    "version": 2
   },
   "file_extension": ".py",
   "mimetype": "text/x-python",
   "name": "python",
   "nbconvert_exporter": "python",
   "pygments_lexer": "ipython2",
   "version": "2.7.6"
  }
 },
 "nbformat": 4,
 "nbformat_minor": 0
}
